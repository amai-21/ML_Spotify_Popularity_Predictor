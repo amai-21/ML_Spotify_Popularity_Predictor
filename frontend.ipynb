{
 "cells": [
  {
   "cell_type": "code",
   "execution_count": 2,
   "id": "48c34f7d-00db-4450-8526-8e6fbcfcf94b",
   "metadata": {},
   "outputs": [
    {
     "ename": "ModuleNotFoundError",
     "evalue": "No module named 'streamlit'",
     "output_type": "error",
     "traceback": [
      "\u001b[1;31m---------------------------------------------------------------------------\u001b[0m",
      "\u001b[1;31mModuleNotFoundError\u001b[0m                       Traceback (most recent call last)",
      "Cell \u001b[1;32mIn[2], line 2\u001b[0m\n\u001b[0;32m      1\u001b[0m \u001b[38;5;66;03m#Use Streamlit to deploy our model:\u001b[39;00m\n\u001b[1;32m----> 2\u001b[0m \u001b[38;5;28;01mimport\u001b[39;00m \u001b[38;5;21;01mstreamlit\u001b[39;00m \u001b[38;5;28;01mas\u001b[39;00m \u001b[38;5;21;01mst\u001b[39;00m\n\u001b[0;32m      3\u001b[0m \u001b[38;5;28;01mimport\u001b[39;00m \u001b[38;5;21;01mpandas\u001b[39;00m \u001b[38;5;28;01mas\u001b[39;00m \u001b[38;5;21;01mpd\u001b[39;00m\n\u001b[0;32m      4\u001b[0m \u001b[38;5;28;01mimport\u001b[39;00m \u001b[38;5;21;01mnumpy\u001b[39;00m \u001b[38;5;28;01mas\u001b[39;00m \u001b[38;5;21;01mnp\u001b[39;00m\n",
      "\u001b[1;31mModuleNotFoundError\u001b[0m: No module named 'streamlit'"
     ]
    }
   ],
   "source": [
    "#Use Streamlit to deploy our model:\n",
    "import streamlit as st\n",
    "import pandas as pd\n",
    "import numpy as np\n",
    "import joblib"
   ]
  },
  {
   "cell_type": "code",
   "execution_count": 3,
   "id": "01dbf022-3b3c-46ad-b2c1-bd7ef9a89dd4",
   "metadata": {},
   "outputs": [
    {
     "ename": "NameError",
     "evalue": "name 'st' is not defined",
     "output_type": "error",
     "traceback": [
      "\u001b[1;31m---------------------------------------------------------------------------\u001b[0m",
      "\u001b[1;31mNameError\u001b[0m                                 Traceback (most recent call last)",
      "Cell \u001b[1;32mIn[3], line 1\u001b[0m\n\u001b[1;32m----> 1\u001b[0m st\u001b[38;5;241m.\u001b[39mtitle(\u001b[38;5;124m'\u001b[39m\u001b[38;5;124mSpotify Popularity Prediction\u001b[39m\u001b[38;5;124m'\u001b[39m)\n",
      "\u001b[1;31mNameError\u001b[0m: name 'st' is not defined"
     ]
    }
   ],
   "source": [
    "st.title('Spotify Popularity Prediction')"
   ]
  },
  {
   "cell_type": "code",
   "execution_count": 1,
   "id": "cd97babe-8211-4f2b-a09e-6510f3d21976",
   "metadata": {},
   "outputs": [
    {
     "ename": "NameError",
     "evalue": "name 'st' is not defined",
     "output_type": "error",
     "traceback": [
      "\u001b[1;31m---------------------------------------------------------------------------\u001b[0m",
      "\u001b[1;31mNameError\u001b[0m                                 Traceback (most recent call last)",
      "Cell \u001b[1;32mIn[1], line 2\u001b[0m\n\u001b[0;32m      1\u001b[0m danceability \u001b[38;5;241m=\u001b[39m \u001b[38;5;241m0.000\u001b[39m\n\u001b[1;32m----> 2\u001b[0m danceability \u001b[38;5;241m=\u001b[39m st\u001b[38;5;241m.\u001b[39mslider(\u001b[38;5;124m\"\u001b[39m\u001b[38;5;124mEnter Danceability\u001b[39m\u001b[38;5;124m\"\u001b[39m, min_value\u001b[38;5;241m=\u001b[39m\u001b[38;5;241m0.000\u001b[39m, max_value\u001b[38;5;241m=\u001b[39m\u001b[38;5;241m1.000\u001b[39m, value\u001b[38;5;241m=\u001b[39mdanceability, step\u001b[38;5;241m=\u001b[39m\u001b[38;5;241m0.001\u001b[39m)\n\u001b[0;32m      4\u001b[0m Energy \u001b[38;5;241m=\u001b[39m \u001b[38;5;241m0.000\u001b[39m\n\u001b[0;32m      5\u001b[0m Energy \u001b[38;5;241m=\u001b[39m st\u001b[38;5;241m.\u001b[39mslider(\u001b[38;5;124m\"\u001b[39m\u001b[38;5;124mEnter Energy\u001b[39m\u001b[38;5;124m\"\u001b[39m, min_value\u001b[38;5;241m=\u001b[39m\u001b[38;5;241m0.000\u001b[39m, max_value\u001b[38;5;241m=\u001b[39m\u001b[38;5;241m1.000\u001b[39m, value\u001b[38;5;241m=\u001b[39menergy, step\u001b[38;5;241m=\u001b[39m\u001b[38;5;241m0.001\u001b[39m)\n",
      "\u001b[1;31mNameError\u001b[0m: name 'st' is not defined"
     ]
    }
   ],
   "source": [
    "danceability = 0.000\n",
    "danceability = st.slider(\"Enter Danceability\", min_value=0.000, max_value=1.000, value=danceability, step=0.001)\n",
    "\n",
    "Energy = 0.000\n",
    "Energy = st.slider(\"Enter Energy\", min_value=0.000, max_value=1.000, value=energy, step=0.001)\n",
    "\n",
    "Key = 0\n",
    "Key = st.slider(\"Enter Danceability\", min_value=0.000, max_value=1.000, value=key, step=0.001)\n",
    "\n",
    "# Loudness input\n",
    "loudness = st.number_input(\"Enter loudness (dB):\", min_value=-1e308, max_value= 1.797e+308, value= 0.00)\n",
    "\n",
    "# Mode input\n",
    "mode = st.radio(\"Enter mode\", (0,1))\n",
    "\n",
    "# Speechiness input\n",
    "speechiness = st.number_input(\"Enter speechiness (0-1):\")\n",
    "speechiness = f'{speechiness:.5f}'\n",
    "\n",
    "\n",
    "# Acousticness input\n",
    "acousticness = 0.000\n",
    "acousticness = st.slider(\"Enter Acousticness\", min_value=0.000, max_value=1.000, value=acousticness, step=0.001)\n",
    "\n",
    "# Instrumentalness input\n",
    "instrumentalness = 0.000\n",
    "instrumentalness  = st.slider(\"Enter Instrumentalness\", min_value=0.000, max_value=1.000, value=instrumentalness , step=0.001)\n",
    "\n",
    "# Liveness input\n",
    "Liveness = 0.000\n",
    "Liveness = st.slider(\"Enter Liveness\", min_value=0.000, max_value=1.000, value=Liveness, step=0.001)\n",
    "\n",
    "# Valence input\n",
    "valence = 0.000\n",
    "valence = st.slider(\"Enter Valence\", min_value=0.000, max_value=1.000, value=valence, step=0.001)\n",
    "\n",
    "# Tempo input\n",
    "tempo = st.number_input(\"Enter Chorus hit :\")\n",
    "\n",
    "# Duration input\n",
    "duration_ms = st.number_input(\"Enter duration (ms):\", step=1)\n",
    "\n",
    "# Time signature input\n",
    "time_signature = 0\n",
    "time_signature = st.slider(\"Enter Time Signature\", min_value=0, max_value=7, value=time_signature, step=1)\n",
    "\n",
    "# Chorus hit input\n",
    "chorus_hit = st.number_input(\"Enter Chorus hit (0 or 1):\", step=0.001)\n",
    "\n",
    "# Sections input\n",
    "sections = st.number_input(\"Enter sections:\")\n",
    "\n",
    "# Decade input\n",
    "decade = st.number_input(\"Enter decade (YYYY):\", value=1969)\n",
    "input = (danceability, energy, key,\tloudness,mode,speechiness,acousticness,instrumentalness,Liveness,valence,tempo,duration_ms,time_signature,chorus_hit,sections,decade)\n",
    "\n",
    "loaded_model = joblib.load('clf.pkl')\n",
    "if st.button(\"Predict\"):\n",
    "   result = loaded_model.predict([input])\n",
    "if result == 1:\n",
    "    st.success(\"Hit\")\n",
    "else:\n",
    "    st.error(\"Flop\")"
   ]
  },
  {
   "cell_type": "code",
   "execution_count": null,
   "id": "d1f0e912-de1a-41e3-b15d-f028b3076d4a",
   "metadata": {},
   "outputs": [],
   "source": []
  }
 ],
 "metadata": {
  "kernelspec": {
   "display_name": "Python 3 (ipykernel)",
   "language": "python",
   "name": "python3"
  },
  "language_info": {
   "codemirror_mode": {
    "name": "ipython",
    "version": 3
   },
   "file_extension": ".py",
   "mimetype": "text/x-python",
   "name": "python",
   "nbconvert_exporter": "python",
   "pygments_lexer": "ipython3",
   "version": "3.11.5"
  }
 },
 "nbformat": 4,
 "nbformat_minor": 5
}
